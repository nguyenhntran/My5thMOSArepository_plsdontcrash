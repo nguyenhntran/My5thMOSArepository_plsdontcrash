{
 "cells": [
  {
   "cell_type": "code",
   "execution_count": 2,
   "metadata": {},
   "outputs": [],
   "source": [
    "# Import packages\n",
    "import importlib\n",
    "import os\n",
    "import time\n",
    "import numpy as np\n",
    "import gc"
   ]
  },
  {
   "cell_type": "code",
   "execution_count": 3,
   "metadata": {},
   "outputs": [
    {
     "name": "stdout",
     "output_type": "stream",
     "text": [
      "Current working directory: /Users/nt625/Documents/GitHub/MOSA_bashmethod_2025/MOSA_arneg\n"
     ]
    }
   ],
   "source": [
    "# -------------- PART 0a: CHOOSE CIRCUIT AND SET UP FOLDER --------------                            #<--------- SAME AS CODE1 UP TO...\n",
    "\n",
    "# Choose circuit\n",
    "circuit = input(\"Please enter name of the circuit: \")\n",
    "\n",
    "# Import circuit config file\n",
    "config = importlib.import_module(circuit)\n",
    "\n",
    "# Define subfolder name to work in\n",
    "folder_name = f\"MOSA_{circuit}\"\n",
    "\n",
    "# Create folder if not yet exist\n",
    "if not os.path.exists(folder_name):\n",
    "    os.makedirs(folder_name)\n",
    "\n",
    "# Jump to folder\n",
    "os.chdir(folder_name)\n",
    "\n",
    "# Prompt new folder name\n",
    "print(f\"Current working directory: {os.getcwd()}\")                                                   #<--------- ...UP TO HERE"
   ]
  },
  {
   "cell_type": "code",
   "execution_count": 4,
   "metadata": {},
   "outputs": [
    {
     "name": "stdout",
     "output_type": "stream",
     "text": [
      "\n",
      "Only two sensitivity functions are present:\n",
      "0. |S_alpha_xss|\n",
      "1. |S_n_xss|\n",
      "MOSA will anneal this pair.\n",
      "\n",
      "Current working directory: /Users/nt625/Documents/GitHub/MOSA_bashmethod_2025/MOSA_arneg/MOSA_sensfuncs_0_and_1\n"
     ]
    }
   ],
   "source": [
    "# -------------- PART 0d: CHOOSE SENSITIVITY FUNCTIONS --------------                                #<--------- SAME AS CODE1 UP TO...\n",
    "\n",
    "# Print prompt\n",
    "print(\"\"\"\n",
    "Only two sensitivity functions are present:\n",
    "0. |S_alpha_xss|\n",
    "1. |S_n_xss|\n",
    "MOSA will anneal this pair.\n",
    "\"\"\")\n",
    "\n",
    "# Choose pair of functions\n",
    "choice1 = 0\n",
    "choice2 = 1\n",
    "\n",
    "# List of sensitivity function names\n",
    "sensitivity_labels = [\n",
    "    \"|S_alpha_xss|\",\n",
    "    \"|S_n_xss|\"]\n",
    "\n",
    "# Save function names for later use\n",
    "label1 = sensitivity_labels[choice1]\n",
    "label2 = sensitivity_labels[choice2]\n",
    "\n",
    "\n",
    "# -------------- PART 0e: CHANGING DIRECTORIES --------------\n",
    "\n",
    "\n",
    "# Define subfolder name to work in\n",
    "subfolder_name = f\"MOSA_sensfuncs_{choice1}_and_{choice2}\"\n",
    "\n",
    "# Create folder if not yet exist\n",
    "if not os.path.exists(subfolder_name):\n",
    "    os.makedirs(subfolder_name)\n",
    "\n",
    "# Jump to folder\n",
    "os.chdir(subfolder_name)\n",
    "\n",
    "# Prompt new folder name\n",
    "print(f\"Current working directory: {os.getcwd()}\")                                                   #<--------- ...UP TO HERE"
   ]
  },
  {
   "cell_type": "code",
   "execution_count": 4,
   "metadata": {},
   "outputs": [],
   "source": [
    "# -------------------- NEW STUFF --------------------"
   ]
  },
  {
   "cell_type": "code",
   "execution_count": 5,
   "metadata": {},
   "outputs": [],
   "source": [
    "runs = int(input(\"How many MOSA runs did you run: \"))"
   ]
  },
  {
   "cell_type": "code",
   "execution_count": 6,
   "metadata": {},
   "outputs": [],
   "source": [
    "# Define function that returns a 2D numpy array containing rows from arr2 that are not in arr1, where arr1 and arr2 are 2D NumPy arrays\n",
    "def rows_not_in_arr1(arr1, arr2):\n",
    "    dtype = [('f0', arr2.dtype), ('f1', arr2.dtype)]\n",
    "    arr1_struct = arr1.view(dtype)\n",
    "    arr2_struct = arr2.view(dtype)\n",
    "    unique_rows = np.setdiff1d(arr2_struct, arr1_struct).view(arr2.dtype).reshape(-1, arr2.shape[1])\n",
    "    return unique_rows"
   ]
  },
  {
   "cell_type": "code",
   "execution_count": 7,
   "metadata": {},
   "outputs": [],
   "source": [
    "# Define original grid points\n",
    "alpha_min      = 0.01\n",
    "alpha_max      = 50\n",
    "alpha_no       = 1000\n",
    "alpha_vals = np.linspace(alpha_min,alpha_max,alpha_no)\n",
    "n_min      = 0.01\n",
    "n_max      = 10\n",
    "n_no       = 1000\n",
    "n_vals = np.linspace(n_min,n_max,n_no)\n",
    "grid_x, grid_y = np.meshgrid(alpha_vals,n_vals)\n",
    "grid_original = np.vstack([grid_x.ravel(), grid_y.ravel()]).T"
   ]
  },
  {
   "cell_type": "code",
   "execution_count": 8,
   "metadata": {},
   "outputs": [
    {
     "name": "stdout",
     "output_type": "stream",
     "text": [
      "Shape after Run 1: (42, 2)\n",
      "Shape after Run 2: (206586, 2)\n",
      "Shape after Run 3: (336006, 2)\n",
      "Shape after Run 4: (336045, 2)\n",
      "Shape after Run 5: (336591, 2)\n"
     ]
    }
   ],
   "source": [
    "# Empty array to keep track of what points in search space we've already accumulated as we progress through runs\n",
    "accumulating_searchspace = np.empty((0, 2))\n",
    "\n",
    "# For each run in our total number of runs\n",
    "for run in range(1, runs + 1):\n",
    "\n",
    "    # Load the parameter values for that run's Pareto front\n",
    "    pareto_alpha = np.load(f\"pareto_alpha_run{run}.npy\", allow_pickle=True)\n",
    "    pareto_n = np.load(f\"pareto_n_run{run}.npy\", allow_pickle=True)\n",
    "    \n",
    "    # Create 2D points from the loaded data\n",
    "    points = np.array(list(zip(pareto_alpha, pareto_n)))\n",
    "    \n",
    "    # Compute the bounding box from the points\n",
    "    min_x, min_y = np.min(points, axis=0)\n",
    "    max_x, max_y = np.max(points, axis=0)\n",
    "    \n",
    "    # Obtain mask\n",
    "    mask = (\n",
    "        (grid_original[:, 0] >= min_x) & (grid_original[:, 0] <= max_x) &\n",
    "        (grid_original[:, 1] >= min_y) & (grid_original[:, 1] <= max_y)\n",
    "    )\n",
    "    \n",
    "    # Keep points inside mask\n",
    "    grid_masked = grid_original[mask]\n",
    "    \n",
    "    #  Now we have\n",
    "    #                   --------------------------------\n",
    "    #                  |   alpha values  |   n values   |\n",
    "    #                  |         #       |       #      |\n",
    "    #  grid_masked  =  |         #       |       #      |\n",
    "    #                  |         #       |       #      |\n",
    "    #                  |         #       |       #      |\n",
    "    #                   --------------------------------\n",
    "\n",
    "    # Keep new points only\n",
    "    grid_new = rows_not_in_arr1(accumulating_searchspace, grid_masked)\n",
    "    \n",
    "    # Save data\n",
    "    np.save(f\"grid_new_run{run}.npy\", grid_new)\n",
    "    \n",
    "    # Accumulate new points\n",
    "    accumulating_searchspace = np.vstack([accumulating_searchspace, grid_new])\n",
    "    \n",
    "    # Print shape\n",
    "    print(f\"Shape after Run {run}: {accumulating_searchspace.shape}\")"
   ]
  },
  {
   "cell_type": "code",
   "execution_count": null,
   "metadata": {},
   "outputs": [],
   "source": [
    "# Convert final array into a set of valid (alpha, n) pairs for fast lookup\n",
    "valid_points = set(map(tuple, accumulating_searchspace))\n",
    "\n",
    "# Create a boolean mask (True if the point is in the final valid array)\n",
    "mask = np.array([tuple(point) in valid_points for point in grid_original])\n",
    "\n",
    "# Create a new grid where invalid points are replaced with NaN\n",
    "grid_final = np.copy(grid_original)\n",
    "grid_final[~mask] = np.nan  # Set invalid points to NaN\n",
    "\n",
    "# Reshape back to 2D format if needed (optional)\n",
    "grid_final_x = grid_final[:, 0].reshape(grid_x.shape)\n",
    "grid_final_y = grid_final[:, 1].reshape(grid_y.shape)\n",
    "\n",
    "# Save masked grid\n",
    "np.save(\"grid_final.npy\", grid_final)"
   ]
  }
 ],
 "metadata": {
  "kernelspec": {
   "display_name": "base",
   "language": "python",
   "name": "python3"
  },
  "language_info": {
   "codemirror_mode": {
    "name": "ipython",
    "version": 3
   },
   "file_extension": ".py",
   "mimetype": "text/x-python",
   "name": "python",
   "nbconvert_exporter": "python",
   "pygments_lexer": "ipython3",
   "version": "3.11.0"
  }
 },
 "nbformat": 4,
 "nbformat_minor": 2
}
